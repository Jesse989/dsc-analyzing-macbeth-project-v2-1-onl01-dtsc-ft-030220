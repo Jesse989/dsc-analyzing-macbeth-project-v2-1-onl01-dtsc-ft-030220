{
 "cells": [
  {
   "cell_type": "markdown",
   "metadata": {},
   "source": [
    "# Project: Analyzing Macbeth\n",
    "\n",
    "## Introduction\n",
    "Now we're going to do some rudimentary analysis of Shakespeare's classic play: Macbeth! You will get practice working with lists and dictionaries, conditionals, visualizing data, and thinking analytically about data.\n",
    "\n",
    "## Objectives\n",
    "You will be able to:\n",
    "* Apply string methods to make changes to a string\n",
    "* Use a `for` loop to iterate over a collection\n",
    "* Assign values in a dictionary\n",
    "\n",
    "## Getting the Data\n",
    "Here we start by importing a Python package called `requests`. We'll use it to pull the transcript of Macbeth from the [Project Gutenberg](https://www.gutenberg.org/) website. We'll also preview a few details about what is now stored in the variable `macbeth`. As you can see, it's a string with 120,253 characters - the first 500 of which are printed below. "
   ]
  },
  {
   "cell_type": "code",
   "execution_count": 1,
   "metadata": {},
   "outputs": [
    {
     "name": "stdout",
     "output_type": "stream",
     "text": [
      "<class 'str'>\n",
      "120253\n"
     ]
    }
   ],
   "source": [
    "import requests\n",
    "macbeth = requests.get('http://www.gutenberg.org/cache/epub/2264/pg2264.txt').text\n",
    "\n",
    "print(type(macbeth))\n",
    "print(len(macbeth))\n",
    "\n",
    "# take away the intro and left with body\n",
    "title_index = 12559\n",
    "title = \"The Tragedie of Macbeth\"\n",
    "body = macbeth[macbeth.find(title, title_index):]"
   ]
  },
  {
   "cell_type": "markdown",
   "metadata": {},
   "source": [
    "## Your Task\n",
    "\n",
    "Your task is to create a bar graph of the 25 most common words in Shakespeare's Macbeth.  \n",
    "\n",
    "\n",
    "A common Python programming pattern to count objects, produce histograms, or update statistics is to make calls to a dictionary as you iterate through a list. For example, given a list of words, you can create a dictionary to store counts and then iterate through the list of words, checking how many times each word has appeared using your dictionary, and updating the dictionary count now that you've seen that word again. The `.get()` dictionary method is very useful in doing this. Read the docstring for the `.get()` method and use it along with the pseudocode below to create a bar graph of the 25 most common words from the transcript of Macbeth which has been loaded into the variable 'macbeth'. Be sure to include a title and appropriate labels for your graph.\n",
    "\n",
    "To get the 25 *most common* words, you will have to sort your counts. If you are not super sure how to do this, checkout out the [Sorting HOW TO](https://docs.python.org/3/howto/sorting.html) Python documentation. Part of being a data scientist is figuring out how to do tasks that you may not have done before. Remember, in these situations, Google is your friend!"
   ]
  },
  {
   "cell_type": "code",
   "execution_count": 2,
   "metadata": {},
   "outputs": [],
   "source": [
    "import numpy as np\n",
    "import matplotlib.pyplot as plt\n",
    "%matplotlib inline\n",
    "\n",
    "# Your code here\n",
    "# Pseudo-code outline\n",
    "# Split the transcript into words\n",
    "# Create a dictionary\n",
    "# Iterate through the text of Macbeth\n",
    "# Update word counts\n",
    "# Sort words by counts in descending order\n",
    "# Create Bar Graph\n",
    "# Include descriptive titles and labels"
   ]
  },
  {
   "cell_type": "markdown",
   "metadata": {},
   "source": [
    "## Helper functions"
   ]
  },
  {
   "cell_type": "code",
   "execution_count": 3,
   "metadata": {},
   "outputs": [],
   "source": [
    "def coords_by_name(name, quantity = 10):\n",
    "    words = char_word_str(name, body)\n",
    "    word_count = count_words(words)\n",
    "    sorted_word_count = sorted_top(word_count, quantity)\n",
    "    return word_count_coords(sorted_word_count)\n",
    "    "
   ]
  },
  {
   "cell_type": "code",
   "execution_count": 4,
   "metadata": {},
   "outputs": [],
   "source": [
    "def create_subplots(coords, titles):\n",
    "    rows = len(titles) // 2\n",
    "    columns = len(titles) //2\n",
    "    fig,a =  plt.subplots(rows, columns, constrained_layout=True)\n",
    "    counter = 0\n",
    "    for row in range(rows):\n",
    "        for column in range(columns):\n",
    "            a[row][column].bar(coords[counter][0], coords[counter][1])       \n",
    "            a[row][column].set_title(titles[counter])\n",
    "            for tick in a[row][column].get_xticklabels():\n",
    "                tick.set_rotation(55)  \n",
    "            counter += 1\n",
    "    plt.show()"
   ]
  },
  {
   "cell_type": "code",
   "execution_count": 5,
   "metadata": {},
   "outputs": [],
   "source": [
    "def sorted_top(word_count, size = 10):\n",
    "    \"\"\"\n",
    "    Helper function for sorting dictionary.\n",
    "    \"\"\"\n",
    "    word_count_dict = {}\n",
    "    word_count_tuples = sorted(word_count.items(), reverse=True, key=lambda word: word[1])[:size]\n",
    "    for pair in word_count_tuples:\n",
    "        word_count_dict[pair[0]] = pair[1]\n",
    "    return word_count_dict"
   ]
  },
  {
   "cell_type": "code",
   "execution_count": 6,
   "metadata": {},
   "outputs": [],
   "source": [
    "def count_words(text):\n",
    "    \"\"\"\n",
    "    Run through each word in the text and check to see if it's in dictionary.\n",
    "    If not then add to dictionary. If its already present, then increment the count.\n",
    "    \"\"\"\n",
    "    word_count = {}\n",
    "    words = text.replace('\\n', ' ').replace('\\r', ' ').split(' ')\n",
    "    for word in words:\n",
    "        word = word.lower().strip('*)(?.,:!')        \n",
    "        if word_count.get(word) != None and len(word):\n",
    "            word_count[word] += 1\n",
    "        else:\n",
    "            word_count[word] = 1\n",
    "    return word_count"
   ]
  },
  {
   "cell_type": "code",
   "execution_count": 7,
   "metadata": {},
   "outputs": [],
   "source": [
    "import re\n",
    "def count_characters(text):\n",
    "    \"\"\"\n",
    "    Use regex to find occurences of Word starting with capital letter and ending with period.\n",
    "    \"\"\"\n",
    "    character_count = {}\n",
    "    characters = re.findall(r\"(\\s{3,}[A-Z][a-z]{2,}\\.)+\", text)\n",
    "    for character in characters:\n",
    "        name = character.lower().strip().strip('.').capitalize()\n",
    "        if character_count.get(name) != None:\n",
    "            character_count[name] += 1\n",
    "        else: \n",
    "            character_count[name] = 0\n",
    "    return character_count"
   ]
  },
  {
   "cell_type": "code",
   "execution_count": 8,
   "metadata": {},
   "outputs": [],
   "source": [
    "def word_count_coords(word_count):\n",
    "    \"\"\"\n",
    "    Takes dict, word_count,\n",
    "    returns two arrays with x, y coords\n",
    "    \"\"\"\n",
    "    x = list(word_count.keys())\n",
    "    y = list(word_count.values())\n",
    "    return x, y"
   ]
  },
  {
   "cell_type": "code",
   "execution_count": 9,
   "metadata": {},
   "outputs": [],
   "source": [
    "def graph_word_count(word_count, title=\"Title\", xlabel=\"\", ylabel=\"\"):\n",
    "    \"\"\"\n",
    "    Setup and bar graph the given word_count list of tuples.\n",
    "    \"\"\"\n",
    "    x, y = word_count_coords(word_count)\n",
    "    plt.figure(figsize=(14, 6))\n",
    "    plt.bar(x, y)\n",
    "    plt.title(title)\n",
    "    plt.xlabel(xlabel)\n",
    "    plt.xticks(rotation=45)\n",
    "    plt.ylabel(ylabel)\n",
    "    plt.show()"
   ]
  },
  {
   "cell_type": "code",
   "execution_count": 10,
   "metadata": {},
   "outputs": [],
   "source": [
    "def count_lines(char_lines): \n",
    "    \"\"\"\n",
    "    Take a dictionary: { 'name': ['line1', 'line3']} as char_lines\n",
    "    Returns a dictionary with name and total lines: { 'name': int }\n",
    "    \"\"\"\n",
    "    character_word_count = {}\n",
    "    for character in char_lines:\n",
    "        character_word_count[character] = len(char_lines[character])\n",
    "    return character_word_count\n"
   ]
  },
  {
   "cell_type": "code",
   "execution_count": 11,
   "metadata": {},
   "outputs": [],
   "source": [
    "def strip_name(line):\n",
    "    \"\"\"\n",
    "    Helper function to pull name out of line.\n",
    "    Tries to validate that it is indeed a name\n",
    "    \"\"\"\n",
    "    name = line.split('.')[0].strip()\n",
    "    if line.find('.') > 0 and len(name.split()) < 3:\n",
    "        return name\n",
    "    else:\n",
    "        return ''"
   ]
  },
  {
   "cell_type": "code",
   "execution_count": 12,
   "metadata": {},
   "outputs": [],
   "source": [
    "def who_said_what(text):\n",
    "    \"\"\"\n",
    "    Takes a str and returns a dictionary: { 'name': ['str', 'str']}\n",
    "    \"\"\"\n",
    "    name = 'Narrator' # default: if no name is present assume its the narrator speaking\n",
    "    result = {}\n",
    "    character_lines = text.splitlines()\n",
    "    for line in character_lines:\n",
    "        if len(line):\n",
    "            if line[0] == ' ': \n",
    "                # if indented: take character name, add remain line to array\n",
    "                name = strip_name(line)\n",
    "                line = \"\".join(line.split('.')[1:]).strip()\n",
    "                addline(result, name, line)\n",
    "            elif len(name):\n",
    "                # if not indented and name is set, add line to array\n",
    "                addline(result, name, line)\n",
    "            else:\n",
    "                # if not indented and name is not set, add to narrator\n",
    "                result['Narrator'].append([line])\n",
    "        else:\n",
    "            # if new paragraph, reset name\n",
    "            name = ''\n",
    "    return result\n",
    "\n",
    "def addline(result, name, line):\n",
    "    if result.get(name) is None:\n",
    "        result[name] = [[line]]\n",
    "    else:\n",
    "        result[name].append([line])"
   ]
  },
  {
   "cell_type": "code",
   "execution_count": 13,
   "metadata": {},
   "outputs": [],
   "source": [
    "def char_word_str(name, text):\n",
    "    \"\"\"\n",
    "    Given name of character as string,\n",
    "    and text to search through.\n",
    "    Returns concatenated string of characters complete text\n",
    "    \"\"\"\n",
    "    character_words = who_said_what(text)[name]\n",
    "    character_str = \"\"\n",
    "    for words in character_words:\n",
    "        character_str += \" \".join(words) + \" \"\n",
    "    return character_str"
   ]
  },
  {
   "cell_type": "markdown",
   "metadata": {},
   "source": [
    "### Frequency of words in Macbeth"
   ]
  },
  {
   "cell_type": "code",
   "execution_count": 14,
   "metadata": {},
   "outputs": [
    {
     "data": {
      "image/png": "[encoded data removed]",
      "text/plain": [
       "<Figure size 1008x432 with 1 Axes>"
      ]
     },
     "metadata": {
      "needs_background": "light"
     },
     "output_type": "display_data"
    }
   ],
   "source": [
    "word_count = count_words(body)\n",
    "sorted_word_count = sorted_top(word_count, 25) # sort desc, return top 25\n",
    "\n",
    "graph_word_count(sorted_word_count, \"Frequency of words\", \"Word\", \"Count\")"
   ]
  },
  {
   "cell_type": "markdown",
   "metadata": {},
   "source": [
    "### How many times each name appears (usually as a cue)"
   ]
  },
  {
   "cell_type": "code",
   "execution_count": 15,
   "metadata": {},
   "outputs": [
    {
     "data": {
      "image/png": "[encoded data removed]",
      "text/plain": [
       "<Figure size 1008x432 with 1 Axes>"
      ]
     },
     "metadata": {
      "needs_background": "light"
     },
     "output_type": "display_data"
    }
   ],
   "source": [
    "characters = count_characters(body)\n",
    "sorted_character_count = sorted_top(characters, 25)\n",
    "\n",
    "graph_word_count(sorted_character_count, \"References per character\", \"Character\", \"Reference\")"
   ]
  },
  {
   "cell_type": "markdown",
   "metadata": {},
   "source": [
    "### How many lines spoken per person"
   ]
  },
  {
   "cell_type": "code",
   "execution_count": 16,
   "metadata": {},
   "outputs": [
    {
     "data": {
      "image/png": "[encoded data removed]",
      "text/plain": [
       "<Figure size 1008x432 with 1 Axes>"
      ]
     },
     "metadata": {
      "needs_background": "light"
     },
     "output_type": "display_data"
    }
   ],
   "source": [
    "character_lines = count_lines(who_said_what(body))\n",
    "sorted_words_character = sorted_top(character_lines, 10)\n",
    "\n",
    "graph_word_count(sorted_words_character, \"Lines per character\", \"Character\", \"lines\")"
   ]
  },
  {
   "cell_type": "markdown",
   "metadata": {},
   "source": [
    "### Frequency of words in Macbeth, by person"
   ]
  },
  {
   "cell_type": "code",
   "execution_count": 17,
   "metadata": {},
   "outputs": [
    {
     "data": {
      "image/png": "[encoded data removed]",
      "text/plain": [
       "<Figure size 432x288 with 4 Axes>"
      ]
     },
     "metadata": {
      "needs_background": "light"
     },
     "output_type": "display_data"
    }
   ],
   "source": [
    "names = ['Macb', 'Narrator', 'Lenox', 'Mal']\n",
    "coords = []\n",
    "for name in names:\n",
    "     coords.append(coords_by_name(name))\n",
    "create_subplots(coords, names)"
   ]
  },
  {
   "cell_type": "markdown",
   "metadata": {},
   "source": [
    "## Level Up (Optional)\n",
    "This project should take you about an hour and a half to complete. If you're done much more quickly than that and are not behind in the course, feel free to deepen your knowledge by completing any or all of the following tasks until you run out of time:\n",
    "* ~~Create a list of top characters by mentions of their names~~\n",
    "* ~~Split the text by which character is talking~~\n",
    "* ~~Create subgraphs of the most common words by character~~\n",
    "* ~~Reduce the string to the text of the play itself. (Remove any initial notes, forward, introduction, appendix, etc.)~~\n",
    "* Come up with some other fun analyses of the text!\n",
    "\n",
    "## Summary\n",
    "Congratulations! You've got some extra practice combining various data types into useful programming patterns and done an initial analysis of a classic text!"
   ]
  },
  {
   "cell_type": "code",
   "execution_count": null,
   "metadata": {},
   "outputs": [],
   "source": []
  }
 ],
 "metadata": {
  "kernelspec": {
   "display_name": "Python 3",
   "language": "python",
   "name": "python3"
  },
  "language_info": {
   "codemirror_mode": {
    "name": "ipython",
    "version": 3
   },
   "file_extension": ".py",
   "mimetype": "text/x-python",
   "name": "python",
   "nbconvert_exporter": "python",
   "pygments_lexer": "ipython3",
   "version": "3.6.9"
  }
 },
 "nbformat": 4,
 "nbformat_minor": 2
}
